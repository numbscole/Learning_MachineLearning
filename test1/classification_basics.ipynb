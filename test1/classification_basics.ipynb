{
 "cells": [
  {
   "cell_type": "markdown",
   "metadata": {},
   "source": [
    "Classification is used for pattern recognition. The following notebook examines four attributes which correspond to three different kinds of Iris flowers. The data is split into training and testing data.\n",
    "The testing data allows us to get an idea of how well our model performs after training on the training data. "
   ]
  },
  {
   "cell_type": "code",
   "execution_count": 1,
   "metadata": {},
   "outputs": [],
   "source": [
    "# Dependicies\n",
    "import pandas as pd\n",
    "from scipy.io import arff\n",
    "from sklearn.model_selection import train_test_split\n",
    "from sklearn import tree\n",
    "from sklearn.neighbors import KNeighborsClassifier\n",
    "from sklearn.metrics import confusion_matrix\n",
    "import graphviz"
   ]
  },
  {
   "cell_type": "markdown",
   "metadata": {},
   "source": [
    "### Loading data from iris.arff file"
   ]
  },
  {
   "cell_type": "code",
   "execution_count": 2,
   "metadata": {},
   "outputs": [],
   "source": [
    "data = arff.loadarff('iris.arff')\n",
    "df = pd.DataFrame(data[0])\n",
    "df['class'] = df['class'].apply(lambda x: x.decode('utf-8'))"
   ]
  },
  {
   "cell_type": "markdown",
   "metadata": {},
   "source": [
    "Looking at our data.."
   ]
  },
  {
   "cell_type": "code",
   "execution_count": 3,
   "metadata": {},
   "outputs": [
    {
     "data": {
      "text/html": [
       "<div>\n",
       "<style scoped>\n",
       "    .dataframe tbody tr th:only-of-type {\n",
       "        vertical-align: middle;\n",
       "    }\n",
       "\n",
       "    .dataframe tbody tr th {\n",
       "        vertical-align: top;\n",
       "    }\n",
       "\n",
       "    .dataframe thead th {\n",
       "        text-align: right;\n",
       "    }\n",
       "</style>\n",
       "<table border=\"1\" class=\"dataframe\">\n",
       "  <thead>\n",
       "    <tr style=\"text-align: right;\">\n",
       "      <th></th>\n",
       "      <th>sepallength</th>\n",
       "      <th>sepalwidth</th>\n",
       "      <th>petallength</th>\n",
       "      <th>petalwidth</th>\n",
       "      <th>class</th>\n",
       "    </tr>\n",
       "  </thead>\n",
       "  <tbody>\n",
       "    <tr>\n",
       "      <th>0</th>\n",
       "      <td>5.1</td>\n",
       "      <td>3.5</td>\n",
       "      <td>1.4</td>\n",
       "      <td>0.2</td>\n",
       "      <td>Iris-setosa</td>\n",
       "    </tr>\n",
       "    <tr>\n",
       "      <th>1</th>\n",
       "      <td>4.9</td>\n",
       "      <td>3.0</td>\n",
       "      <td>1.4</td>\n",
       "      <td>0.2</td>\n",
       "      <td>Iris-setosa</td>\n",
       "    </tr>\n",
       "    <tr>\n",
       "      <th>2</th>\n",
       "      <td>4.7</td>\n",
       "      <td>3.2</td>\n",
       "      <td>1.3</td>\n",
       "      <td>0.2</td>\n",
       "      <td>Iris-setosa</td>\n",
       "    </tr>\n",
       "  </tbody>\n",
       "</table>\n",
       "</div>"
      ],
      "text/plain": [
       "   sepallength  sepalwidth  petallength  petalwidth        class\n",
       "0          5.1         3.5          1.4         0.2  Iris-setosa\n",
       "1          4.9         3.0          1.4         0.2  Iris-setosa\n",
       "2          4.7         3.2          1.3         0.2  Iris-setosa"
      ]
     },
     "execution_count": 3,
     "metadata": {},
     "output_type": "execute_result"
    }
   ],
   "source": [
    "df.head(3)"
   ]
  },
  {
   "cell_type": "markdown",
   "metadata": {},
   "source": [
    "Identifying data as  attributes and coded class labels and seperating for training and testing our classifier"
   ]
  },
  {
   "cell_type": "code",
   "execution_count": 4,
   "metadata": {},
   "outputs": [],
   "source": [
    "x = df.loc[:,'sepallength':'petalwidth']\n",
    "y = df['class'].astype('category').cat.codes\n",
    "\n",
    "#splitting the data into test and train\n",
    "x_train, x_test, y_train, y_test = train_test_split(\n",
    "        x, y, test_size=0.33, random_state=50)"
   ]
  },
  {
   "cell_type": "markdown",
   "metadata": {},
   "source": [
    "Training a Decision Tree Classifier through the sklearn module"
   ]
  },
  {
   "cell_type": "code",
   "execution_count": 5,
   "metadata": {},
   "outputs": [],
   "source": [
    "dtc = tree.DecisionTreeClassifier()\n",
    "dtc.fit(x_train,y_train)\n",
    "dtc_acc = dtc.score(x_test, y_test)\n",
    "y_pred_dtc = dtc.predict(x_test)"
   ]
  },
  {
   "cell_type": "markdown",
   "metadata": {},
   "source": [
    "Training a K-Neighbors Classifier also through the sklearn module"
   ]
  },
  {
   "cell_type": "code",
   "execution_count": 6,
   "metadata": {},
   "outputs": [],
   "source": [
    "knn = KNeighborsClassifier(n_neighbors=3)\n",
    "knn.fit(x_train,y_train)\n",
    "knn_acc = knn.score(x_test,y_test)\n",
    "y_pred_knn = knn.predict(x_test)"
   ]
  },
  {
   "cell_type": "markdown",
   "metadata": {},
   "source": [
    "A nice way to view the performance of these models is through a confusion matrix.\n",
    "The confusion matrix compares the models predictions to the true labels associated to a group of attributes."
   ]
  },
  {
   "cell_type": "code",
   "execution_count": 7,
   "metadata": {},
   "outputs": [],
   "source": [
    "cm_dtc = confusion_matrix(y_test, y_pred_dtc)\n",
    "cm_knn = confusion_matrix(y_test, y_pred_knn)"
   ]
  },
  {
   "cell_type": "markdown",
   "metadata": {},
   "source": [
    "The rows correspond the the true labels, while the columns correspond to the labels predicted by the classifier."
   ]
  },
  {
   "cell_type": "code",
   "execution_count": 8,
   "metadata": {},
   "outputs": [
    {
     "name": "stdout",
     "output_type": "stream",
     "text": [
      "Decision Tree Classifier confusion matrix:\n",
      "[[17  0  0]\n",
      " [ 0 16  1]\n",
      " [ 0  1 15]]\n",
      "K-Neighbors Classifier confusion matrix:\n",
      "[[17  0  0]\n",
      " [ 0 16  1]\n",
      " [ 0  0 16]]\n"
     ]
    }
   ],
   "source": [
    "print('Decision Tree Classifier confusion matrix:')\n",
    "print(cm_dtc)\n",
    "print('K-Neighbors Classifier confusion matrix:')\n",
    "print(cm_knn)"
   ]
  },
  {
   "cell_type": "markdown",
   "metadata": {},
   "source": [
    "Estimating accuracy is the proportion of correct answers over all samples, or the sum of the diagonal components of the confusion matrix over the sum of all components."
   ]
  },
  {
   "cell_type": "code",
   "execution_count": 9,
   "metadata": {},
   "outputs": [
    {
     "name": "stdout",
     "output_type": "stream",
     "text": [
      "Decision Tree Classifier accuracy:\n",
      "0.96\n",
      "K-Neighbors Classifier accuracy:\n",
      "0.98\n"
     ]
    }
   ],
   "source": [
    "print('Decision Tree Classifier accuracy:')\n",
    "print(dtc_acc)\n",
    "print('K-Neighbors Classifier accuracy:')\n",
    "print(knn_acc)"
   ]
  },
  {
   "cell_type": "markdown",
   "metadata": {},
   "source": [
    " .\n",
    " .\n",
    " ."
   ]
  },
  {
   "cell_type": "markdown",
   "metadata": {},
   "source": [
    "If we were classifying something as true or positive, for example whether a doctor's patient is sick, it might be important to know more than just the accuracy of the classifier. The individual components of our confusion matrix are labeled as True Positive (TP), False Positive (FP), True Negative (TN) and False Negative (FN)."
   ]
  },
  {
   "cell_type": "markdown",
   "metadata": {},
   "source": [
    "TP: Number of instances where classifier said the patient was sick when the patient was sick"
   ]
  },
  {
   "cell_type": "markdown",
   "metadata": {},
   "source": [
    "FP: Number of instances where classifier said the patient was sick when the patient was not sick"
   ]
  },
  {
   "cell_type": "markdown",
   "metadata": {},
   "source": [
    "TN: Number of instances where classifier said the patient was not sick when the patient was not sick"
   ]
  },
  {
   "cell_type": "markdown",
   "metadata": {},
   "source": [
    "FN: Number of instances where classifier said the patient was not sick when the patient was sick"
   ]
  },
  {
   "cell_type": "code",
   "execution_count": 10,
   "metadata": {},
   "outputs": [
    {
     "name": "stdout",
     "output_type": "stream",
     "text": [
      "Components to confusion matrix representation:\n",
      "[TP,FP]\n",
      "[FN,TN]\n"
     ]
    }
   ],
   "source": [
    "print('Components to confusion matrix representation:')\n",
    "m = [['TP','FP'],\n",
    "     ['FN','TN']]\n",
    "print('[TP,FP]\\n[FN,TN]')"
   ]
  }
 ],
 "metadata": {
  "kernelspec": {
   "display_name": "Python 3",
   "language": "python",
   "name": "python3"
  },
  "language_info": {
   "codemirror_mode": {
    "name": "ipython",
    "version": 3
   },
   "file_extension": ".py",
   "mimetype": "text/x-python",
   "name": "python",
   "nbconvert_exporter": "python",
   "pygments_lexer": "ipython3",
   "version": "3.6.4rc1"
  }
 },
 "nbformat": 4,
 "nbformat_minor": 2
}
